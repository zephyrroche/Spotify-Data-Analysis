{
  "nbformat": 4,
  "nbformat_minor": 0,
  "metadata": {
    "colab": {
      "provenance": [],
      "authorship_tag": "ABX9TyOB5Xneu87Wi0EXgcuEzgr0",
      "include_colab_link": true
    },
    "kernelspec": {
      "name": "python3",
      "display_name": "Python 3"
    },
    "language_info": {
      "name": "python"
    }
  },
  "cells": [
    {
      "cell_type": "markdown",
      "metadata": {
        "id": "view-in-github",
        "colab_type": "text"
      },
      "source": [
        "<a href=\"https://colab.research.google.com/github/zephyrroche/Spotify-Data-Analysis/blob/main/Spotify_Data_Analysis.ipynb\" target=\"_parent\"><img src=\"https://colab.research.google.com/assets/colab-badge.svg\" alt=\"Open In Colab\"/></a>"
      ]
    },
    {
      "cell_type": "markdown",
      "source": [
        "1. What are the top 10 most popular tracks?\n",
        "2. What is the average duration of songs (in minutes)?\n",
        "3. How many explicit songs are there compared to non-explicit ones?\n",
        "4. Which year had the most song releases?\n",
        "5. What is the correlation between energy and danceability?\n",
        "6. What are the top 5 artists with the most songs in the dataset?"
      ],
      "metadata": {
        "id": "APDquWX5WfJ3"
      }
    },
    {
      "cell_type": "code",
      "execution_count": 1,
      "metadata": {
        "id": "-lWbUmxiru96"
      },
      "outputs": [],
      "source": [
        "import numpy as np\n",
        "import pandas as pd\n",
        "import matplotlib.pyplot as plt\n",
        "import seaborn as sns"
      ]
    },
    {
      "cell_type": "code",
      "source": [
        "from google.colab import files\n",
        "data_to_load = files.upload()"
      ],
      "metadata": {
        "colab": {
          "base_uri": "https://localhost:8080/",
          "height": 55
        },
        "id": "YE6EDwn0r361",
        "outputId": "25c430a1-c965-4b6f-e3b4-04e2f161e493"
      },
      "execution_count": null,
      "outputs": [
        {
          "output_type": "display_data",
          "data": {
            "text/plain": [
              "<IPython.core.display.HTML object>"
            ],
            "text/html": [
              "\n",
              "     <input type=\"file\" id=\"files-78ba238b-cd54-4043-8c50-52bd0614a673\" name=\"files[]\" multiple disabled\n",
              "        style=\"border:none\" />\n",
              "     <output id=\"result-78ba238b-cd54-4043-8c50-52bd0614a673\">\n",
              "      Upload widget is only available when the cell has been executed in the\n",
              "      current browser session. Please rerun this cell to enable.\n",
              "      </output>\n",
              "      <script>// Copyright 2017 Google LLC\n",
              "//\n",
              "// Licensed under the Apache License, Version 2.0 (the \"License\");\n",
              "// you may not use this file except in compliance with the License.\n",
              "// You may obtain a copy of the License at\n",
              "//\n",
              "//      http://www.apache.org/licenses/LICENSE-2.0\n",
              "//\n",
              "// Unless required by applicable law or agreed to in writing, software\n",
              "// distributed under the License is distributed on an \"AS IS\" BASIS,\n",
              "// WITHOUT WARRANTIES OR CONDITIONS OF ANY KIND, either express or implied.\n",
              "// See the License for the specific language governing permissions and\n",
              "// limitations under the License.\n",
              "\n",
              "/**\n",
              " * @fileoverview Helpers for google.colab Python module.\n",
              " */\n",
              "(function(scope) {\n",
              "function span(text, styleAttributes = {}) {\n",
              "  const element = document.createElement('span');\n",
              "  element.textContent = text;\n",
              "  for (const key of Object.keys(styleAttributes)) {\n",
              "    element.style[key] = styleAttributes[key];\n",
              "  }\n",
              "  return element;\n",
              "}\n",
              "\n",
              "// Max number of bytes which will be uploaded at a time.\n",
              "const MAX_PAYLOAD_SIZE = 100 * 1024;\n",
              "\n",
              "function _uploadFiles(inputId, outputId) {\n",
              "  const steps = uploadFilesStep(inputId, outputId);\n",
              "  const outputElement = document.getElementById(outputId);\n",
              "  // Cache steps on the outputElement to make it available for the next call\n",
              "  // to uploadFilesContinue from Python.\n",
              "  outputElement.steps = steps;\n",
              "\n",
              "  return _uploadFilesContinue(outputId);\n",
              "}\n",
              "\n",
              "// This is roughly an async generator (not supported in the browser yet),\n",
              "// where there are multiple asynchronous steps and the Python side is going\n",
              "// to poll for completion of each step.\n",
              "// This uses a Promise to block the python side on completion of each step,\n",
              "// then passes the result of the previous step as the input to the next step.\n",
              "function _uploadFilesContinue(outputId) {\n",
              "  const outputElement = document.getElementById(outputId);\n",
              "  const steps = outputElement.steps;\n",
              "\n",
              "  const next = steps.next(outputElement.lastPromiseValue);\n",
              "  return Promise.resolve(next.value.promise).then((value) => {\n",
              "    // Cache the last promise value to make it available to the next\n",
              "    // step of the generator.\n",
              "    outputElement.lastPromiseValue = value;\n",
              "    return next.value.response;\n",
              "  });\n",
              "}\n",
              "\n",
              "/**\n",
              " * Generator function which is called between each async step of the upload\n",
              " * process.\n",
              " * @param {string} inputId Element ID of the input file picker element.\n",
              " * @param {string} outputId Element ID of the output display.\n",
              " * @return {!Iterable<!Object>} Iterable of next steps.\n",
              " */\n",
              "function* uploadFilesStep(inputId, outputId) {\n",
              "  const inputElement = document.getElementById(inputId);\n",
              "  inputElement.disabled = false;\n",
              "\n",
              "  const outputElement = document.getElementById(outputId);\n",
              "  outputElement.innerHTML = '';\n",
              "\n",
              "  const pickedPromise = new Promise((resolve) => {\n",
              "    inputElement.addEventListener('change', (e) => {\n",
              "      resolve(e.target.files);\n",
              "    });\n",
              "  });\n",
              "\n",
              "  const cancel = document.createElement('button');\n",
              "  inputElement.parentElement.appendChild(cancel);\n",
              "  cancel.textContent = 'Cancel upload';\n",
              "  const cancelPromise = new Promise((resolve) => {\n",
              "    cancel.onclick = () => {\n",
              "      resolve(null);\n",
              "    };\n",
              "  });\n",
              "\n",
              "  // Wait for the user to pick the files.\n",
              "  const files = yield {\n",
              "    promise: Promise.race([pickedPromise, cancelPromise]),\n",
              "    response: {\n",
              "      action: 'starting',\n",
              "    }\n",
              "  };\n",
              "\n",
              "  cancel.remove();\n",
              "\n",
              "  // Disable the input element since further picks are not allowed.\n",
              "  inputElement.disabled = true;\n",
              "\n",
              "  if (!files) {\n",
              "    return {\n",
              "      response: {\n",
              "        action: 'complete',\n",
              "      }\n",
              "    };\n",
              "  }\n",
              "\n",
              "  for (const file of files) {\n",
              "    const li = document.createElement('li');\n",
              "    li.append(span(file.name, {fontWeight: 'bold'}));\n",
              "    li.append(span(\n",
              "        `(${file.type || 'n/a'}) - ${file.size} bytes, ` +\n",
              "        `last modified: ${\n",
              "            file.lastModifiedDate ? file.lastModifiedDate.toLocaleDateString() :\n",
              "                                    'n/a'} - `));\n",
              "    const percent = span('0% done');\n",
              "    li.appendChild(percent);\n",
              "\n",
              "    outputElement.appendChild(li);\n",
              "\n",
              "    const fileDataPromise = new Promise((resolve) => {\n",
              "      const reader = new FileReader();\n",
              "      reader.onload = (e) => {\n",
              "        resolve(e.target.result);\n",
              "      };\n",
              "      reader.readAsArrayBuffer(file);\n",
              "    });\n",
              "    // Wait for the data to be ready.\n",
              "    let fileData = yield {\n",
              "      promise: fileDataPromise,\n",
              "      response: {\n",
              "        action: 'continue',\n",
              "      }\n",
              "    };\n",
              "\n",
              "    // Use a chunked sending to avoid message size limits. See b/62115660.\n",
              "    let position = 0;\n",
              "    do {\n",
              "      const length = Math.min(fileData.byteLength - position, MAX_PAYLOAD_SIZE);\n",
              "      const chunk = new Uint8Array(fileData, position, length);\n",
              "      position += length;\n",
              "\n",
              "      const base64 = btoa(String.fromCharCode.apply(null, chunk));\n",
              "      yield {\n",
              "        response: {\n",
              "          action: 'append',\n",
              "          file: file.name,\n",
              "          data: base64,\n",
              "        },\n",
              "      };\n",
              "\n",
              "      let percentDone = fileData.byteLength === 0 ?\n",
              "          100 :\n",
              "          Math.round((position / fileData.byteLength) * 100);\n",
              "      percent.textContent = `${percentDone}% done`;\n",
              "\n",
              "    } while (position < fileData.byteLength);\n",
              "  }\n",
              "\n",
              "  // All done.\n",
              "  yield {\n",
              "    response: {\n",
              "      action: 'complete',\n",
              "    }\n",
              "  };\n",
              "}\n",
              "\n",
              "scope.google = scope.google || {};\n",
              "scope.google.colab = scope.google.colab || {};\n",
              "scope.google.colab._files = {\n",
              "  _uploadFiles,\n",
              "  _uploadFilesContinue,\n",
              "};\n",
              "})(self);\n",
              "</script> "
            ]
          },
          "metadata": {}
        }
      ]
    },
    {
      "cell_type": "code",
      "source": [
        "df = pd.read_csv('tracks.csv')"
      ],
      "metadata": {
        "id": "9-tuic_Mtl74"
      },
      "execution_count": null,
      "outputs": []
    },
    {
      "cell_type": "code",
      "source": [
        "df.head()"
      ],
      "metadata": {
        "id": "JXzP1kZ7tu3o"
      },
      "execution_count": null,
      "outputs": []
    },
    {
      "cell_type": "markdown",
      "source": [
        "# What are the top 10 most popular tracks?"
      ],
      "metadata": {
        "id": "A5Q2xi0GWqWU"
      }
    },
    {
      "cell_type": "code",
      "source": [
        "popular=df[['name', 'artists', 'popularity']].sort_values(by='popularity', ascending=False).head(10)\n",
        "plt.figure(figsize=(10,6))\n",
        "sns.barplot(x='popularity', y='name', data=popular, palette='viridis')\n",
        "plt.title('Top 10 Most Popular Tracks')\n",
        "plt.xlabel('Popularity')\n",
        "plt.ylabel('track name')\n",
        "plt.show()"
      ],
      "metadata": {
        "id": "_dVklTKyWs6A"
      },
      "execution_count": null,
      "outputs": []
    },
    {
      "cell_type": "markdown",
      "source": [
        "**The tracks above are the 10 most popular in the dataset, showcasing what listeners have loved the most.**"
      ],
      "metadata": {
        "id": "1qXtVwZtXJOG"
      }
    },
    {
      "cell_type": "markdown",
      "source": [
        "# What is the average duration of songs (in minutes)?"
      ],
      "metadata": {
        "id": "mNaX6qPwXMWD"
      }
    },
    {
      "cell_type": "code",
      "source": [
        "# Step 1: Take the average of the duration_ms column\n",
        "duration = df['duration_ms'].mean()\n",
        "\n",
        "# Step 2: Convert milliseconds to minutes\n",
        "# 60 seconds in a minute. 1000 milliseconds in a second. So 60000 milliseconds in a minute.\n",
        "duration_mins = duration / 60000\n",
        "\n",
        "# Step 3: Print the result\n",
        "print('Average Duration of Songs:', duration_mins, 'minutes')"
      ],
      "metadata": {
        "id": "hq7OuTk6XPCL"
      },
      "execution_count": null,
      "outputs": []
    },
    {
      "cell_type": "code",
      "source": [
        "#to round off the value\n",
        "print(\"Average Song Duration:\", round(duration_mins, 2), \"minutes\")\n",
        "# the 2 means 2 decimal places."
      ],
      "metadata": {
        "id": "I5C4k1YhY862"
      },
      "execution_count": null,
      "outputs": []
    },
    {
      "cell_type": "markdown",
      "source": [
        "**On average, songs in the dataset are around 3 minutes long (3.83 minutes)**"
      ],
      "metadata": {
        "id": "iQbwl2OFZfix"
      }
    },
    {
      "cell_type": "markdown",
      "source": [
        "# How many explicit songs are there compared to non-explicit ones?"
      ],
      "metadata": {
        "id": "bu8KpRG0ZjBK"
      }
    },
    {
      "cell_type": "code",
      "source": [
        "explicit_songs = df['explicit'].value_counts()\n",
        "print(\"Explicit vs Non-Explicit Songs:\", explicit_songs)\n",
        "\n",
        "#0 is the non-explicit and 1 is explicit"
      ],
      "metadata": {
        "id": "yZ14IsakZwQw"
      },
      "execution_count": null,
      "outputs": []
    },
    {
      "cell_type": "code",
      "source": [
        "plt.figure(figsize=(6,4))\n",
        "sns.barplot(x=explicit_songs.index, y=explicit_songs.values, palette='mako')\n",
        "plt.xticks([0,1], ['Non-Explicit', 'Explicit'])\n",
        "plt.title('Explicit vs Non-Explicit Songs')\n",
        "plt.xlabel('Song Type')\n",
        "plt.ylabel('Count')\n",
        "plt.show()"
      ],
      "metadata": {
        "id": "Bi5EtO9fa72g"
      },
      "execution_count": null,
      "outputs": []
    },
    {
      "cell_type": "markdown",
      "source": [
        "**The dataset has significantly more non-explicit songs than explicit ones, indicating a more family-friendly music trend overall.**"
      ],
      "metadata": {
        "id": "cH7ALfW2b2xt"
      }
    },
    {
      "cell_type": "markdown",
      "source": [
        "# Which year had the most song releases?"
      ],
      "metadata": {
        "id": "jbtV40l0b_yD"
      }
    },
    {
      "cell_type": "code",
      "source": [
        "df['release_year'] = pd.to_datetime(df['release_date'], errors='coerce').dt.year\n",
        "#errors='coerce' = \"Handle mistakes calmly by making them blank (NaT) instead of crashing.\"\n",
        "songs_per_year = df['release_year'].value_counts().sort_index()"
      ],
      "metadata": {
        "id": "jBE0juIfcAte"
      },
      "execution_count": null,
      "outputs": []
    },
    {
      "cell_type": "code",
      "source": [
        "plt.figure(figsize=(14,6))\n",
        "songs_per_year.plot(kind='line')\n",
        "plt.title('Number of Songs Released Each Year')\n",
        "plt.xlabel('Year')\n",
        "plt.ylabel('Number of Songs')\n",
        "plt.grid()\n",
        "plt.show()"
      ],
      "metadata": {
        "id": "tVz_v3F7d6XI"
      },
      "execution_count": null,
      "outputs": []
    },
    {
      "cell_type": "markdown",
      "source": [
        "**The year with the most song releases was 2020.**"
      ],
      "metadata": {
        "id": "Md3LzXvdeAtG"
      }
    },
    {
      "cell_type": "markdown",
      "source": [
        "# What is the correlation between energy and danceability?"
      ],
      "metadata": {
        "id": "ijYJJnZkeHK0"
      }
    },
    {
      "cell_type": "code",
      "source": [
        "correlation = df['energy'].corr(df['danceability'])\n",
        "print('Correlation between Energy and Danceability:', round(correlation,2))"
      ],
      "metadata": {
        "id": "BDVlLhv2eKrx"
      },
      "execution_count": null,
      "outputs": []
    },
    {
      "cell_type": "code",
      "source": [
        "plt.figure(figsize=(12,6))\n",
        "sns.scatterplot(x='energy', y='danceability', data=df, alpha=0.3)\n",
        "plt.title('Energy vs Danceability')\n",
        "plt.xlabel('Energy')\n",
        "plt.ylabel('Danceability')\n",
        "plt.show()"
      ],
      "metadata": {
        "id": "io86utupfS-i"
      },
      "execution_count": null,
      "outputs": []
    },
    {
      "cell_type": "markdown",
      "source": [
        "**There is a correlation of 0.24 between energy and danceability, meaning more energetic songs tend to be danceable since the correlation is more than zero.**"
      ],
      "metadata": {
        "id": "hEW8Tveff692"
      }
    },
    {
      "cell_type": "markdown",
      "source": [
        "# What are the top 5 artists with the most songs in the dataset?"
      ],
      "metadata": {
        "id": "WqX27R7lgkuf"
      }
    },
    {
      "cell_type": "code",
      "source": [
        "df"
      ],
      "metadata": {
        "id": "UerimNifgyM6"
      },
      "execution_count": null,
      "outputs": []
    },
    {
      "cell_type": "code",
      "source": [
        "df['primary_artist'] = df['artists']\n",
        "top_artists = df['primary_artist'].value_counts().head(5)\n",
        "print(\"Top 5 Artists with Most Songs:\", top_artists)"
      ],
      "metadata": {
        "id": "U2h1yTmVgaK2"
      },
      "execution_count": null,
      "outputs": []
    }
  ]
}